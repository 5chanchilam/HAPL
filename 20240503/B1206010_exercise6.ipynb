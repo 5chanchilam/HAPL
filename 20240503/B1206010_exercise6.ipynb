{
  "nbformat": 4,
  "nbformat_minor": 0,
  "metadata": {
    "colab": {
      "provenance": []
    },
    "kernelspec": {
      "name": "python3",
      "display_name": "Python 3"
    },
    "language_info": {
      "name": "python"
    }
  },
  "cells": [
    {
      "cell_type": "code",
      "execution_count": 5,
      "metadata": {
        "colab": {
          "base_uri": "https://localhost:8080/"
        },
        "id": "honoEUBN8AA8",
        "outputId": "07d9aa69-56c3-4845-f726-545061deb50c"
      },
      "outputs": [
        {
          "output_type": "stream",
          "name": "stdout",
          "text": [
            "請輸入聖誕樹的高度(至少7層):9\n",
            "        *\n",
            "       ***\n",
            "      *****\n",
            "     *******\n",
            "    *********\n",
            "   ***********\n",
            "  *************\n",
            " ***************\n",
            "*****************\n",
            "      ***\n",
            "      ***\n",
            "      ***\n",
            "      ***\n",
            "      ***\n"
          ]
        }
      ],
      "source": [
        "def draw_christmas_tree(height):\n",
        "  for i in range(1,height +1):\n",
        "    spaces = \" \"*(height -i)\n",
        "    stars = \"*\"*(2*i-1)\n",
        "    print(spaces+stars)\n",
        "  trunk_spaces=\" \"*(height-3)\n",
        "  for _ in range(5):\n",
        "    print(trunk_spaces + \"***\")\n",
        "height=int(input(\"請輸入聖誕樹的高度(至少7層):\"))\n",
        "draw_christmas_tree(height)\n"
      ]
    },
    {
      "cell_type": "code",
      "source": [
        "def calculate_bmi(height,weight):\n",
        "  try:\n",
        "    height=float(height)/100\n",
        "    weight=float(weight)\n",
        "\n",
        "    bmi=weight/(height**2)\n",
        "\n",
        "    return bmi\n",
        "  except ValueError:\n",
        "    raise ValueError(\"輸入內容錯誤\")\n",
        "\n",
        "def determine_body_status(bmi):\n",
        "  if bmi<18.5:\n",
        "    return \"過輕\"\n",
        "  elif bmi<24:\n",
        "    return\"適中\"\n",
        "  elif bmi<27:\n",
        "    return\"過重\"\n",
        "  elif bmi>=27:\n",
        "    return\"肥胖\"\n",
        "\n",
        "try:\n",
        "  height=input(\"請輸入身高(公分):\")\n",
        "  weight=input(\"請輸入體重(公斤):\")\n",
        "\n",
        "  bmi=calculate_bmi(height,weight)\n",
        "  body_status=determine_body_status(bmi)\n",
        "\n",
        "  print(\"BMI:\",bmi)\n",
        "  print(\"體位:\",body_status)\n",
        "except ValueError as e:\n",
        "  print(\"輸入內容錯誤\",e)"
      ],
      "metadata": {
        "colab": {
          "base_uri": "https://localhost:8080/"
        },
        "id": "KL-1Mq_jJAy1",
        "outputId": "7a02b138-f439-441d-e4ff-31271823cb80"
      },
      "execution_count": 9,
      "outputs": [
        {
          "output_type": "stream",
          "name": "stdout",
          "text": [
            "請輸入身高(公分):162\n",
            "請輸入體重(公斤):49\n",
            "BMI: 18.670934308794386\n",
            "體位: 適中\n"
          ]
        }
      ]
    },
    {
      "cell_type": "code",
      "source": [
        "def calculate_bmi(height,weight):\n",
        "  try:\n",
        "    height=float(height)/100\n",
        "    weight=float(weight)\n",
        "\n",
        "    bmi=weight/(height**2)\n",
        "\n",
        "    return bmi\n",
        "  except ValueError:\n",
        "    raise ValueError(\"輸入內容錯誤\")\n",
        "\n",
        "def determine_body_status(bmi):\n",
        "  if bmi<18.5:\n",
        "    return \"過輕\"\n",
        "  elif bmi<24:\n",
        "    return\"適中\"\n",
        "  elif bmi<27:\n",
        "    return\"過重\"\n",
        "  elif bmi>=27:\n",
        "    return\"肥胖\"\n",
        "\n",
        "try:\n",
        "  height=input(\"請輸入身高(公分):\")\n",
        "  weight=input(\"請輸入體重(公斤):\")\n",
        "\n",
        "  bmi=calculate_bmi(height,weight)\n",
        "  body_status=determine_body_status(bmi)\n",
        "\n",
        "  print(\"BMI:\",bmi)\n",
        "  print(\"體位:\",body_status)\n",
        "except ValueError as e:\n",
        "  print(\"輸入內容錯誤\",e)"
      ],
      "metadata": {
        "colab": {
          "base_uri": "https://localhost:8080/"
        },
        "id": "u9iEs5eeNjyl",
        "outputId": "d397cd1f-d55b-4cb7-aa68-23a084adf337"
      },
      "execution_count": 10,
      "outputs": [
        {
          "output_type": "stream",
          "name": "stdout",
          "text": [
            "請輸入身高(公分):abc\n",
            "請輸入體重(公斤):q\n",
            "輸入內容錯誤 輸入內容錯誤\n"
          ]
        }
      ]
    }
  ]
}