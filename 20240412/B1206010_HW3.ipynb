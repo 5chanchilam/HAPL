{
  "nbformat": 4,
  "nbformat_minor": 0,
  "metadata": {
    "colab": {
      "provenance": []
    },
    "kernelspec": {
      "name": "python3",
      "display_name": "Python 3"
    },
    "language_info": {
      "name": "python"
    }
  },
  "cells": [
    {
      "cell_type": "code",
      "source": [
        "def is_leap_year(year):\n",
        "    if year < 1582:\n",
        "        return year % 4 == 0\n",
        "    else:\n",
        "        return year % 4 == 0 and (year % 100 != 0 or year % 400 == 0)\n",
        "\n",
        "year = int(input(\"請輸入年份: \"))\n",
        "\n",
        "if is_leap_year(year):\n",
        "    print(year, \"年是閏年\")\n",
        "else:\n",
        "    print(year, \"年是平年\")"
      ],
      "metadata": {
        "colab": {
          "base_uri": "https://localhost:8080/"
        },
        "id": "IKV_m7__aYDb",
        "outputId": "c3e4cb95-da71-4974-f99a-25d833f78e43"
      },
      "execution_count": 8,
      "outputs": [
        {
          "output_type": "stream",
          "name": "stdout",
          "text": [
            "請輸入年份: 2024\n",
            "2024 年是閏年\n"
          ]
        }
      ]
    }
  ]
}