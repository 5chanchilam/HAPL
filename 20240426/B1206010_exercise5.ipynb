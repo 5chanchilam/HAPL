{
  "nbformat": 4,
  "nbformat_minor": 0,
  "metadata": {
    "colab": {
      "provenance": []
    },
    "kernelspec": {
      "name": "python3",
      "display_name": "Python 3"
    },
    "language_info": {
      "name": "python"
    }
  },
  "cells": [
    {
      "cell_type": "code",
      "execution_count": 14,
      "metadata": {
        "colab": {
          "base_uri": "https://localhost:8080/"
        },
        "id": "oBTaJx3t2eOf",
        "outputId": "390c8286-efbb-46bd-c47d-0f44c9df2465"
      },
      "outputs": [
        {
          "output_type": "stream",
          "name": "stdout",
          "text": [
            "1x1=1   2x1=2   3x1=3   4x1=4   5x1=5   6x1=6   7x1=7   8x1=8   9x1=9   \n",
            "1x2=2   2x2=4   3x2=6   4x2=8   5x2=10  6x2=12  7x2=14  8x2=16  9x2=18  \n",
            "1x3=3   2x3=6   3x3=9   4x3=12  5x3=15  6x3=18  7x3=21  8x3=24  9x3=27  \n",
            "1x4=4   2x4=8   3x4=12  4x4=16  5x4=20  6x4=24  7x4=28  8x4=32  9x4=36  \n",
            "1x5=5   2x5=10  3x5=15  4x5=20  5x5=25  6x5=30  7x5=35  8x5=40  9x5=45  \n",
            "1x6=6   2x6=12  3x6=18  4x6=24  5x6=30  6x6=36  7x6=42  8x6=48  9x6=54  \n",
            "1x7=7   2x7=14  3x7=21  4x7=28  5x7=35  6x7=42  7x7=49  8x7=56  9x7=63  \n",
            "1x8=8   2x8=16  3x8=24  4x8=32  5x8=40  6x8=48  7x8=56  8x8=64  9x8=72  \n",
            "1x9=9   2x9=18  3x9=27  4x9=36  5x9=45  6x9=54  7x9=63  8x9=72  9x9=81  \n"
          ]
        }
      ],
      "source": [
        "i=1\n",
        "while i<=9:\n",
        "  j=1\n",
        "  while j<=9:\n",
        "    product=i*j\n",
        "    if product<10:\n",
        "      print(f\"{j}x{i}={product}\",end=\"   \")\n",
        "    else:\n",
        "      print(f\"{j}x{i}={product}\",end=\"  \")\n",
        "    j+=1\n",
        "  print()\n",
        "  i+=1"
      ]
    },
    {
      "cell_type": "code",
      "source": [
        "import random\n",
        "def generate_answer():\n",
        "  return random.sample(range(1,10),4)\n",
        "def get_user_input():\n",
        "  while True:\n",
        "    user_input=input(\"請輸入四個數字（不會重複）:\")\n",
        "    if len(user_input)==4 and len(set(user_input))==4 and user_input.isdigit():\n",
        "      return list(user_input)\n",
        "    else:\n",
        "      print(\"輸入數字過多或有重複,請重新輸入\")\n",
        "def compare_numbers(answer,guess):\n",
        "  a=0\n",
        "  b=0\n",
        "  for i in range(4):\n",
        "    if int(guess[i])==answer[i]:\n",
        "      a+=1\n",
        "    elif int(guess[i]) in answer:\n",
        "      b+=1\n",
        "  return a, b\n",
        "def play_game():\n",
        "  answer = generate_answer()\n",
        "  print(\"答案:\",answer)\n",
        "  attempts = 0\n",
        "  while True:\n",
        "    guess=get_user_input()\n",
        "    attempts += 1\n",
        "    a, b=compare_numbers(answer,guess)\n",
        "    print(\"\".join(guess)+\":{}A{}B\".format(a, b))\n",
        "    if a==4:\n",
        "      print(\"答對了!總共猜了{}次\".format(attempts))\n",
        "      break\n",
        "play_game()"
      ],
      "metadata": {
        "colab": {
          "base_uri": "https://localhost:8080/"
        },
        "id": "EUAsEryY7UQs",
        "outputId": "46f5ed8f-5539-439d-d464-60f42d7fdb87"
      },
      "execution_count": 24,
      "outputs": [
        {
          "output_type": "stream",
          "name": "stdout",
          "text": [
            "答案: [5, 3, 1, 6]\n",
            "請輸入四個數字（不會重複）:12345\n",
            "輸入數字過多或有重複,請重新輸入\n",
            "請輸入四個數字（不會重複）:5984\n",
            "5984:1A0B\n",
            "請輸入四個數字（不會重複）:5631\n",
            "5631:1A3B\n",
            "請輸入四個數字（不會重複）:5136\n",
            "5136:2A2B\n",
            "請輸入四個數字（不會重複）:5316\n",
            "5316:4A0B\n",
            "答對了!總共猜了4次\n"
          ]
        }
      ]
    }
  ]
}