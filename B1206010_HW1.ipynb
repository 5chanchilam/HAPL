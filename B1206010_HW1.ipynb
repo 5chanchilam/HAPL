{
  "nbformat": 4,
  "nbformat_minor": 0,
  "metadata": {
    "colab": {
      "provenance": []
    },
    "kernelspec": {
      "name": "python3",
      "display_name": "Python 3"
    },
    "language_info": {
      "name": "python"
    }
  },
  "cells": [
    {
      "cell_type": "code",
      "execution_count": 2,
      "metadata": {
        "colab": {
          "base_uri": "https://localhost:8080/"
        },
        "id": "a-dUsHthpWz_",
        "outputId": "8a501f92-5acd-451c-c9bf-70eb5b8504da"
      },
      "outputs": [
        {
          "output_type": "stream",
          "name": "stdout",
          "text": [
            "I'm a student\n"
          ]
        }
      ],
      "source": [
        "print(\"I'm a student\")"
      ]
    },
    {
      "cell_type": "code",
      "source": [
        "x1, y1=map(float, input(\"請輸入座標點A的x和y座標值(以空格分隔)： \").split())\n",
        "x2, y2=map(float, input(\"請輸入座標點A的x和y座標值(以空格分隔)： \").split())\n",
        "\n",
        "distance =(x2-x1)**2+(y2-y1)**2\n",
        "\n",
        "print(\"兩點之間的距離為： \", distance)"
      ],
      "metadata": {
        "colab": {
          "base_uri": "https://localhost:8080/"
        },
        "id": "brjjXmGupsX6",
        "outputId": "129b4634-0225-4806-94c8-1124016a6607"
      },
      "execution_count": 6,
      "outputs": [
        {
          "output_type": "stream",
          "name": "stdout",
          "text": [
            "請輸入座標點A的x和y座標值(以空格分隔)： 2 3\n",
            "請輸入座標點A的x和y座標值(以空格分隔)： 3 5\n",
            "兩點之間的距離為：  5.0\n"
          ]
        }
      ]
    },
    {
      "cell_type": "code",
      "source": [
        "height=float(input(\"請輸入身高(cm): \"))\n",
        "weight=float(input(\"請輸入體重(kg): \"))\n",
        "\n",
        "height /=100\n",
        "\n",
        "bmi=weight/(height**2)\n",
        "\n",
        "print(\"你的BMI值為： \", bmi)"
      ],
      "metadata": {
        "colab": {
          "base_uri": "https://localhost:8080/"
        },
        "id": "HMJGDVHZrxty",
        "outputId": "0c90f8a9-95c1-4acf-e59f-b8eff80c9e58"
      },
      "execution_count": 7,
      "outputs": [
        {
          "output_type": "stream",
          "name": "stdout",
          "text": [
            "請輸入身高(cm): 162\n",
            "請輸入體重(kg): 60\n",
            "你的BMI值為：  22.86236854138088\n"
          ]
        }
      ]
    }
  ]
}